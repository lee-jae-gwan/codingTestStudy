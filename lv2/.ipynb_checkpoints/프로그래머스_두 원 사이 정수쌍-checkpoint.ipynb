{
 "cells": [
  {
   "cell_type": "markdown",
   "id": "51905dba-ae34-4266-a190-acab81e06280",
   "metadata": {},
   "source": [
    "x축과 y축으로 이루어진 2차원 직교 좌표계에 중심이 원점인 서로 다른 크기의 원이 두 개 주어집니다. 반지름을 나타내는 두 정수 r1, r2가 매개변수로 주어질 때, 두 원 사이의 공간에 x좌표와 y좌표가 모두 정수인 점의 개수를 return하도록 solution 함수를 완성해주세요.\n",
    "※ 각 원 위의 점도 포함하여 셉니다."
   ]
  },
  {
   "cell_type": "markdown",
   "id": "8fed7fad-f11f-480f-8dea-6f2f8f344590",
   "metadata": {},
   "source": [
    "### 3줄요약\n",
    "    - 큰 원과 작은 원 사이에 있는 정수 점의 개수\n",
    "    - 한 변의 길이가 r인 정사각형 안의 정수점 개수\n",
    "    - 1) 정사각형 안의 모든 정수점에 대해 r 과 비교\n",
    "    - 2) 점화식 찾기"
   ]
  },
  {
   "cell_type": "code",
   "execution_count": 1,
   "id": "0d365843-2b9c-4379-a036-70efe3c7789b",
   "metadata": {},
   "outputs": [],
   "source": [
    "from math import sqrt\n",
    "\n",
    "def solution(r1, r2):\n",
    "    quar = 0\n",
    "    for i in range(0, r1):\n",
    "        quar += int(sqrt(r2**2 - i**2)) - int(sqrt(r1**2 - i**2 - 1))\n",
    "    for i in range(r1, r2):\n",
    "        quar += int(sqrt(r2**2 - i**2))\n",
    "    return quar * 4"
   ]
  },
  {
   "cell_type": "code",
   "execution_count": null,
   "id": "f5872cb1-f8c2-4d5c-8494-4075fe356e63",
   "metadata": {},
   "outputs": [],
   "source": []
  },
  {
   "cell_type": "code",
   "execution_count": null,
   "id": "9d10283b-c0d5-4fc0-a28d-d2c634a97581",
   "metadata": {},
   "outputs": [],
   "source": []
  },
  {
   "cell_type": "code",
   "execution_count": null,
   "id": "71e7967a-92a4-4732-910b-1371385a4c46",
   "metadata": {},
   "outputs": [],
   "source": []
  },
  {
   "cell_type": "code",
   "execution_count": null,
   "id": "8be414eb-0fd1-465a-868e-ab6474553202",
   "metadata": {},
   "outputs": [],
   "source": []
  },
  {
   "cell_type": "code",
   "execution_count": null,
   "id": "7572c6dc-40bd-4567-8b05-06d723d3feda",
   "metadata": {},
   "outputs": [],
   "source": []
  },
  {
   "cell_type": "code",
   "execution_count": null,
   "id": "c22b50b8-9e17-4fa8-8c4f-77652b75d50d",
   "metadata": {},
   "outputs": [],
   "source": []
  },
  {
   "cell_type": "code",
   "execution_count": null,
   "id": "523a0582-fc49-4cc6-b8e6-3db20c8b1045",
   "metadata": {},
   "outputs": [],
   "source": []
  },
  {
   "cell_type": "code",
   "execution_count": null,
   "id": "0ea53f43-2289-475a-9575-44c2caed0df5",
   "metadata": {},
   "outputs": [],
   "source": []
  }
 ],
 "metadata": {
  "kernelspec": {
   "display_name": "Python 3 (ipykernel)",
   "language": "python",
   "name": "python3"
  },
  "language_info": {
   "codemirror_mode": {
    "name": "ipython",
    "version": 3
   },
   "file_extension": ".py",
   "mimetype": "text/x-python",
   "name": "python",
   "nbconvert_exporter": "python",
   "pygments_lexer": "ipython3",
   "version": "3.12.7"
  }
 },
 "nbformat": 4,
 "nbformat_minor": 5
}
