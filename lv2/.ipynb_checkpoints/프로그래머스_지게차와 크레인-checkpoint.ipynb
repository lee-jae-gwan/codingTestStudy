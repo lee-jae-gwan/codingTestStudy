{
 "cells": [
  {
   "cell_type": "markdown",
   "id": "dde62975-2fb5-44f2-9f91-b291d5d9c819",
   "metadata": {},
   "source": [
    "A 회사의 물류창고에는 알파벳 대문자로 종류를 구분하는 컨테이너가 세로로 n 줄, 가로로 m줄 총 n x m개 놓여 있습니다. 특정 종류 컨테이너의 출고 요청이 들어올 때마다 지게차로 창고에서 접근이 가능한 해당 종류의 컨테이너를 모두 꺼냅니다. 접근이 가능한 컨테이너란 4면 중 적어도 1면이 창고 외부와 연결된 컨테이너를 말합니다.\n",
    "\n",
    "최근 이 물류 창고에서 창고 외부와 연결되지 않은 컨테이너도 꺼낼 수 있도록 크레인을 도입했습니다. 크레인을 사용하면 요청된 종류의 모든 컨테이너를 꺼냅니다.\n",
    "\n",
    "물류창고-1-1.drawio.png\n",
    "\n",
    "위 그림처럼 세로로 4줄, 가로로 5줄이 놓인 창고를 예로 들어보겠습니다. 이때 \"A\", \"BB\", \"A\" 순서대로 해당 종류의 컨테이너 출고 요청이 들어왔다고 가정하겠습니다. “A”처럼 알파벳 하나로만 출고 요청이 들어올 경우 지게차를 사용해 출고 요청이 들어온 순간 접근 가능한 컨테이너를 꺼냅니다. \"BB\"처럼 같은 알파벳이 두 번 반복된 경우는 크레인을 사용해 요청된 종류의 모든 컨테이너를 꺼냅니다.\n",
    "\n",
    "물류창고-1-2.drawio.png\n",
    "\n",
    "위 그림처럼 컨테이너가 꺼내져 3번의 출고 요청 이후 남은 컨테이너는 11개입니다. 두 번째 요청은 크레인을 활용해 모든 B 컨테이너를 꺼냈음을 유의해 주세요. 세 번째 요청이 들어왔을 때 2행 2열의 A 컨테이너만 접근이 가능하고 2행 3열의 A 컨테이너는 접근이 불가능했음을 유의해 주세요.\n",
    "\n",
    "처음 물류창고에 놓인 컨테이너의 정보를 담은 1차원 문자열 배열 storage와 출고할 컨테이너의 종류와 출고방법을 요청 순서대로 담은 1차원 문자열 배열 requests가 매개변수로 주어집니다. 이때 모든 요청을 순서대로 완료한 후 남은 컨테이너의 수를 return 하도록 solution 함수를 완성해 주세요."
   ]
  },
  {
   "cell_type": "markdown",
   "id": "5899226a-cb23-4baf-9b46-d95c949e0e5a",
   "metadata": {},
   "source": [
    "### 3줄 요약\n",
    "    - 알파벳이 단수면 현재 접근 가능한 알파벳 꺼내기, 복수면 전체 중에서 모든 칸에서 꺼내기\n",
    "    - 접근 가능하다 = 현재 적어도 1면 이상이 창고 외부에 노출된 곳\n",
    "    - DP 문제?"
   ]
  },
  {
   "cell_type": "code",
   "execution_count": null,
   "id": "a7dd188c-af00-4b91-9402-6acf587af7bf",
   "metadata": {},
   "outputs": [],
   "source": [
    "from collections import deque\n",
    "\n",
    "def mark_reachable_from_out(table):\n",
    "    rows, cols = len(table), len(table[0])\n",
    "    visited = [[False]*cols for _ in range(rows)]\n",
    "    directions = [(-1,0),(1,0),(0,-1),(0,1)]\n",
    "    \n",
    "    queue = deque()\n",
    "\n",
    "    for i in range(rows):\n",
    "        for j in range(cols):\n",
    "            if table[i][j] == 'out':\n",
    "                queue.append((i,j))\n",
    "                visited[i][j] = True\n",
    "\n",
    "    while queue:\n",
    "        x, y = queue.popleft()\n",
    "        for dx, dy in directions:\n",
    "            nx, ny = x+dx, y+dy\n",
    "            if 0 <= nx < rows and 0 <= ny < cols and not visited[nx][ny]:\n",
    "                if table[nx][ny] == True:\n",
    "                    visited[nx][ny] = True\n",
    "                    queue.append((nx, ny))\n",
    "\n",
    "    return visited\n",
    "\n",
    "\n",
    "\n",
    "def solution(storage, requests):\n",
    "    n, m = len(storage), len(storage[0])\n",
    "    table = [['out']*(m+2)]\n",
    "    for row in storage:\n",
    "        table.append(['out'] + list(row) + ['out'])\n",
    "    table.append(['out']*(m+2))\n",
    "\n",
    "    for req in requests:\n",
    "        if len(req) == 2:\n",
    "            one_req = req[0]\n",
    "            for i in range(len(table)):\n",
    "                table[i] = [True if x == one_req else x for x in table[i]]\n",
    "\n",
    "        elif len(req) == 1: \n",
    "            reachable = mark_reachable_from_out(table)\n",
    "            for i in range(1, n+1):\n",
    "                for j in range(1, m+1):\n",
    "                    if table[i][j] == req[0]:\n",
    "                        for dx, dy in [(-1,0),(1,0),(0,-1),(0,1)]:\n",
    "                            if reachable[i+dx][j+dy]:\n",
    "                                table[i][j] = True\n",
    "                                break\n",
    "\n",
    "    ans = sum(\n",
    "        1 for i in range(1, n+1) for j in range(1, m+1)\n",
    "        if table[i][j] not in (True, 'out')\n",
    "    )\n",
    "    return ans\n"
   ]
  }
 ],
 "metadata": {
  "kernelspec": {
   "display_name": "Python 3 (ipykernel)",
   "language": "python",
   "name": "python3"
  },
  "language_info": {
   "codemirror_mode": {
    "name": "ipython",
    "version": 3
   },
   "file_extension": ".py",
   "mimetype": "text/x-python",
   "name": "python",
   "nbconvert_exporter": "python",
   "pygments_lexer": "ipython3",
   "version": "3.12.7"
  }
 },
 "nbformat": 4,
 "nbformat_minor": 5
}
