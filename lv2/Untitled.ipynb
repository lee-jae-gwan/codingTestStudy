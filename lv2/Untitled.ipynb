{
 "cells": [
  {
   "cell_type": "markdown",
   "id": "9b4fe145-e948-43a7-83cd-f5d02e5f12e4",
   "metadata": {},
   "source": [
    "자연수 x를 y로 변환하려고 합니다. 사용할 수 있는 연산은 다음과 같습니다.\n",
    "\n",
    "- x에 n을 더합니다\n",
    "- x에 2를 곱합니다.\n",
    "- x에 3을 곱합니다.\n",
    "\n",
    "자연수 x, y, n이 매개변수로 주어질 때, x를 y로 변환하기 위해 필요한 최소 연산 횟수를 return하도록 solution 함수를 완성해주세요. 이때 x를 y로 만들 수 없다면 -1을 return 해주세요."
   ]
  },
  {
   "cell_type": "markdown",
   "id": "48b92414-769c-44c8-8978-89a6807cf3c1",
   "metadata": {},
   "source": [
    "### 3줄 요약\n",
    "    - 가능한 연산이 정해져있음\n",
    "    - x,y를 각각 2, 3, n의 연산식으로 분해\n",
    "    - 가능하면 최소횟수, 불가하면 -1"
   ]
  },
  {
   "cell_type": "code",
   "execution_count": 1,
   "id": "fa30a7db-d6e0-4507-92b9-f0a83612e52a",
   "metadata": {},
   "outputs": [],
   "source": [
    "x = 10\n",
    "y = 40\n",
    "n = 5"
   ]
  },
  {
   "cell_type": "code",
   "execution_count": null,
   "id": "87a571ce-1ec6-4fda-a9f4-6bb5a9162727",
   "metadata": {},
   "outputs": [],
   "source": []
  },
  {
   "cell_type": "code",
   "execution_count": null,
   "id": "741c705a-2755-4d4c-8cc4-b02e1c273a0f",
   "metadata": {},
   "outputs": [],
   "source": []
  },
  {
   "cell_type": "code",
   "execution_count": null,
   "id": "1efb42c6-bd89-4417-a4e0-aa85a1e3b1da",
   "metadata": {},
   "outputs": [],
   "source": []
  },
  {
   "cell_type": "code",
   "execution_count": null,
   "id": "70d4a0f9-825b-4976-854f-b724e2cf6a4d",
   "metadata": {},
   "outputs": [],
   "source": []
  },
  {
   "cell_type": "code",
   "execution_count": null,
   "id": "d8d1461b-8f40-4d2e-b11e-64562260ade0",
   "metadata": {},
   "outputs": [],
   "source": []
  },
  {
   "cell_type": "code",
   "execution_count": null,
   "id": "453ef894-488a-461a-ac3f-ee174cfe5def",
   "metadata": {},
   "outputs": [],
   "source": []
  },
  {
   "cell_type": "code",
   "execution_count": null,
   "id": "4e47c94f-3feb-43a1-a214-5e6f2be3f742",
   "metadata": {},
   "outputs": [],
   "source": []
  },
  {
   "cell_type": "code",
   "execution_count": null,
   "id": "043c4925-09ce-414f-bcaf-c5013d7633f9",
   "metadata": {},
   "outputs": [],
   "source": []
  },
  {
   "cell_type": "code",
   "execution_count": null,
   "id": "0b61d7bf-c3c5-48bf-a357-091da09fcb9a",
   "metadata": {},
   "outputs": [],
   "source": []
  },
  {
   "cell_type": "code",
   "execution_count": null,
   "id": "26d463c9-06fc-4c1a-a5e3-5f9355212c20",
   "metadata": {},
   "outputs": [],
   "source": []
  },
  {
   "cell_type": "code",
   "execution_count": null,
   "id": "8ff6db1e-37cd-414f-aec1-57841c4efee1",
   "metadata": {},
   "outputs": [],
   "source": []
  },
  {
   "cell_type": "code",
   "execution_count": null,
   "id": "2a71d529-7f9c-415d-aee4-38f6383bea95",
   "metadata": {},
   "outputs": [],
   "source": []
  },
  {
   "cell_type": "code",
   "execution_count": null,
   "id": "41794be7-6ff4-4178-a98f-f3c1048ea8ea",
   "metadata": {},
   "outputs": [],
   "source": []
  },
  {
   "cell_type": "code",
   "execution_count": null,
   "id": "c903ccf0-2258-432a-a61d-3367212e64d5",
   "metadata": {},
   "outputs": [],
   "source": []
  },
  {
   "cell_type": "code",
   "execution_count": null,
   "id": "bdc8fdd8-ce12-44e7-b9ef-c67b196f13f1",
   "metadata": {},
   "outputs": [],
   "source": []
  },
  {
   "cell_type": "code",
   "execution_count": null,
   "id": "0a8b8477-166b-4079-985e-32be3c9650d5",
   "metadata": {},
   "outputs": [],
   "source": []
  },
  {
   "cell_type": "code",
   "execution_count": null,
   "id": "d824f77d-3c0c-4940-86da-00ca508ac8d9",
   "metadata": {},
   "outputs": [],
   "source": []
  }
 ],
 "metadata": {
  "kernelspec": {
   "display_name": "Python 3 (ipykernel)",
   "language": "python",
   "name": "python3"
  },
  "language_info": {
   "codemirror_mode": {
    "name": "ipython",
    "version": 3
   },
   "file_extension": ".py",
   "mimetype": "text/x-python",
   "name": "python",
   "nbconvert_exporter": "python",
   "pygments_lexer": "ipython3",
   "version": "3.12.7"
  }
 },
 "nbformat": 4,
 "nbformat_minor": 5
}
