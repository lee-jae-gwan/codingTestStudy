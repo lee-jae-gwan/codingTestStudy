{
 "cells": [
  {
   "cell_type": "markdown",
   "id": "88208264-05ea-4828-a715-f00bc88c04de",
   "metadata": {},
   "source": [
    "[본 문제는 정확성과 효율성 테스트 각각 점수가 있는 문제입니다.]\n",
    "\n",
    "세로길이가 n 가로길이가 m인 격자 모양의 땅 속에서 석유가 발견되었습니다. 석유는 여러 덩어리로 나누어 묻혀있습니다. 당신이 시추관을 수직으로 단 하나만 뚫을 수 있을 때, 가장 많은 석유를 뽑을 수 있는 시추관의 위치를 찾으려고 합니다. 시추관은 열 하나를 관통하는 형태여야 하며, 열과 열 사이에 시추관을 뚫을 수 없습니다.\n",
    "\n",
    "석유시추-1.drawio.png\n",
    "\n",
    "예를 들어 가로가 8, 세로가 5인 격자 모양의 땅 속에 위 그림처럼 석유가 발견되었다고 가정하겠습니다. 상, 하, 좌, 우로 연결된 석유는 하나의 덩어리이며, 석유 덩어리의 크기는 덩어리에 포함된 칸의 수입니다. 그림에서 석유 덩어리의 크기는 왼쪽부터 8, 7, 2입니다.\n",
    "\n",
    "석유시추-2.drawio.png\n",
    "\n",
    "시추관은 위 그림처럼 설치한 위치 아래로 끝까지 뻗어나갑니다. 만약 시추관이 석유 덩어리의 일부를 지나면 해당 덩어리에 속한 모든 석유를 뽑을 수 있습니다. 시추관이 뽑을 수 있는 석유량은 시추관이 지나는 석유 덩어리들의 크기를 모두 합한 값입니다. 시추관을 설치한 위치에 따라 뽑을 수 있는 석유량은 다음과 같습니다.\n",
    "\n",
    "시추관의 위치\t획득한 덩어리\t총 석유량\n",
    "1\t[8]\t8\n",
    "2\t[8]\t8\n",
    "3\t[8]\t8\n",
    "4\t[7]\t7\n",
    "5\t[7]\t7\n",
    "6\t[7]\t7\n",
    "7\t[7, 2]\t9\n",
    "8\t[2]\t2\n",
    "오른쪽 그림처럼 7번 열에 시추관을 설치하면 크기가 7, 2인 덩어리의 석유를 얻어 뽑을 수 있는 석유량이 9로 가장 많습니다.\n",
    "\n",
    "석유가 묻힌 땅과 석유 덩어리를 나타내는 2차원 정수 배열 land가 매개변수로 주어집니다. 이때 시추관 하나를 설치해 뽑을 수 있는 가장 많은 석유량을 return 하도록 solution 함수를 완성해 주세요.\n",
    "\n"
   ]
  },
  {
   "cell_type": "markdown",
   "id": "19ca103e-29b7-4906-9f4a-71378543324b",
   "metadata": {},
   "source": [
    "### 3줄 요약\n",
    "    - 가장 많은 양의 석유 추출 -> 추출된 석유의 양을 계산\n",
    "    - 한 번 석유 덩어리 찾고 나서도 끝까지 내려가야함\n",
    "    - bfs"
   ]
  },
  {
   "cell_type": "code",
   "execution_count": 313,
   "id": "3a330cda-69ed-4230-aa4a-4a2634ad3419",
   "metadata": {},
   "outputs": [
    {
     "name": "stdout",
     "output_type": "stream",
     "text": [
      "9\n"
     ]
    }
   ],
   "source": [
    "from collections import deque\n",
    "\n",
    "rows = len(land)\n",
    "cols = len(land[0])\n",
    "visited = [[False] * cols for _ in range(rows)]\n",
    "ans_grid = [[0] * cols for _ in range(rows)]\n",
    "directions = [(-1,0),(1,0),(0,-1),(0,1)]\n",
    "\n",
    "queue = deque()\n",
    "\n",
    "total_region = []\n",
    "\n",
    "for i in range(rows):\n",
    "    for j in range(cols):\n",
    "\n",
    "        cnt = 0\n",
    "        sub_region = []\n",
    "        \n",
    "        if land[i][j] == 1 and visited[i][j] == False:\n",
    "            queue.append((i,j))\n",
    "            sub_region.append([i,j])\n",
    "            visited[i][j] = True\n",
    "            cnt +=1\n",
    "        \n",
    "        while queue:\n",
    "            x, y= queue.popleft()\n",
    "            for dx, dy in directions:\n",
    "                nx, ny = x + dx, y + dy\n",
    "                if 0 <= nx < rows and 0 <= ny < cols and not visited[nx][ny]:\n",
    "                    if land[nx][ny] == 0:\n",
    "                        pass\n",
    "                    elif land[nx][ny] == 1:\n",
    "                        queue.append((nx,ny))\n",
    "                        sub_region.append([nx,ny])\n",
    "                        visited[nx][ny] = True\n",
    "                        cnt+=1\n",
    "        if sub_region:\n",
    "            total_region.append(sub_region)\n",
    "\n",
    "\n",
    "ans = [0] * len(land[0])\n",
    "for region in total_region:\n",
    "    tmp_region = []\n",
    "    for pos_x, pos_y in region:\n",
    "        if pos_y not in tmp_region:\n",
    "            ans[pos_y] += len(region)\n",
    "            tmp_region.append(pos_y)\n",
    "ans = max(ans)\n",
    "print(ans)"
   ]
  },
  {
   "cell_type": "code",
   "execution_count": null,
   "id": "09998475-ce80-479d-b8cc-29d95db7ddb1",
   "metadata": {},
   "outputs": [],
   "source": []
  },
  {
   "cell_type": "code",
   "execution_count": null,
   "id": "b076673d-7de2-4391-a455-8c3eb023c417",
   "metadata": {},
   "outputs": [],
   "source": []
  },
  {
   "cell_type": "code",
   "execution_count": null,
   "id": "515a1b3d-8b69-405b-9d53-f496cc80ab83",
   "metadata": {},
   "outputs": [],
   "source": []
  },
  {
   "cell_type": "code",
   "execution_count": null,
   "id": "db2028b5-efb3-42b9-bd7f-888bcd0816ff",
   "metadata": {},
   "outputs": [],
   "source": []
  },
  {
   "cell_type": "code",
   "execution_count": null,
   "id": "965881e9-42bb-4861-be46-48db56988481",
   "metadata": {},
   "outputs": [],
   "source": []
  }
 ],
 "metadata": {
  "kernelspec": {
   "display_name": "Python 3 (ipykernel)",
   "language": "python",
   "name": "python3"
  },
  "language_info": {
   "codemirror_mode": {
    "name": "ipython",
    "version": 3
   },
   "file_extension": ".py",
   "mimetype": "text/x-python",
   "name": "python",
   "nbconvert_exporter": "python",
   "pygments_lexer": "ipython3",
   "version": "3.12.7"
  }
 },
 "nbformat": 4,
 "nbformat_minor": 5
}
