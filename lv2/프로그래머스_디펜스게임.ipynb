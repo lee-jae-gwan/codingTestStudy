{
 "cells": [
  {
   "cell_type": "markdown",
   "id": "07f6bd22-d98a-4ed2-ad35-0dd1e3c73b48",
   "metadata": {},
   "source": [
    "준호는 요즘 디펜스 게임에 푹 빠져 있습니다. 디펜스 게임은 준호가 보유한 병사 n명으로 연속되는 적의 공격을 순서대로 막는 게임입니다. 디펜스 게임은 다음과 같은 규칙으로 진행됩니다.\n",
    "\n",
    "준호는 처음에 병사 n명을 가지고 있습니다.\n",
    "매 라운드마다 enemy[i]마리의 적이 등장합니다.\n",
    "남은 병사 중 enemy[i]명 만큼 소모하여 enemy[i]마리의 적을 막을 수 있습니다.\n",
    "예를 들어 남은 병사가 7명이고, 적의 수가 2마리인 경우, 현재 라운드를 막으면 7 - 2 = 5명의 병사가 남습니다.\n",
    "남은 병사의 수보다 현재 라운드의 적의 수가 더 많으면 게임이 종료됩니다.\n",
    "게임에는 무적권이라는 스킬이 있으며, 무적권을 사용하면 병사의 소모없이 한 라운드의 공격을 막을 수 있습니다.\n",
    "무적권은 최대 k번 사용할 수 있습니다.\n",
    "준호는 무적권을 적절한 시기에 사용하여 최대한 많은 라운드를 진행하고 싶습니다.\n",
    "\n",
    "준호가 처음 가지고 있는 병사의 수 n, 사용 가능한 무적권의 횟수 k, 매 라운드마다 공격해오는 적의 수가 순서대로 담긴 정수 배열 enemy가 매개변수로 주어집니다. 준호가 몇 라운드까지 막을 수 있는지 return 하도록 solution 함수를 완성해주세요.\n"
   ]
  },
  {
   "cell_type": "markdown",
   "id": "d185e729-a92a-4411-a769-b77754073db3",
   "metadata": {},
   "source": [
    "### 3줄 요약\n",
    "    - if 이번 라운드 적의 수 > 남은 병사의 수 ==> 게임 종료\n",
    "    - 병력 손실 없이 라운드 종료: k번\n",
    "    - 최대한 많은 라운드"
   ]
  },
  {
   "cell_type": "code",
   "execution_count": 1,
   "id": "67b1ed09-79a2-49cd-b322-dadef25aa37c",
   "metadata": {},
   "outputs": [],
   "source": []
  },
  {
   "cell_type": "code",
   "execution_count": 18,
   "id": "0a1e64d0-7cbb-420e-9aae-61dc376e5b92",
   "metadata": {},
   "outputs": [
    {
     "name": "stdout",
     "output_type": "stream",
     "text": [
      "1\n",
      "i=0, enemy=4, heap=[4], n=7, answer = 1\n",
      "1\n",
      "i=1, enemy=2, heap=[2, 4], n=7, answer = 2\n",
      "1\n",
      "i=2, enemy=4, heap=[2, 4, 4], n=7, answer = 3\n",
      "2\n",
      "i=3, enemy=5, heap=[4, 4, 5], n=5, answer = 4\n",
      "3\n",
      "i=4, enemy=3, heap=[4, 4, 5], n=2, answer = 5\n",
      "3\n"
     ]
    }
   ],
   "source": [
    "import heapq\n",
    "\n",
    "n = 7\n",
    "k = 3\n",
    "enemy = [4, 2, 4, 5, 3, 3, 1]\n",
    "\n",
    "removes = []\n",
    "for i in range(len(enemy)):\n",
    "    if len(removes) < k:\n",
    "        print(\"1\")\n",
    "        heapq.heappush(removes, enemy[i])\n",
    "        \n",
    "    elif enemy[i] > removes[0]:\n",
    "        print(\"2\")\n",
    "        n -=heapq.heappop(removes)\n",
    "        heapq.heappush(removes,enemy[i])\n",
    "        \n",
    "    else:\n",
    "        print(\"3\")\n",
    "        n-=enemy[i]\n",
    "        \n",
    "    if n<0:\n",
    "        i -=1\n",
    "        break\n",
    "        \n",
    "    answer = i+1\n",
    "    print(f\"i={i}, enemy={enemy[i]}, heap={removes}, n={n}, answer = {answer}\")"
   ]
  },
  {
   "cell_type": "code",
   "execution_count": 16,
   "id": "635eb3f2-7481-4b93-8176-e4e9fc48f65a",
   "metadata": {},
   "outputs": [
    {
     "data": {
      "text/plain": [
       "5"
      ]
     },
     "execution_count": 16,
     "metadata": {},
     "output_type": "execute_result"
    }
   ],
   "source": [
    "answer"
   ]
  },
  {
   "cell_type": "code",
   "execution_count": 6,
   "id": "9dcecfdf-a80d-469c-9fc0-49beaa62f03b",
   "metadata": {},
   "outputs": [
    {
     "data": {
      "text/plain": [
       "[1]"
      ]
     },
     "execution_count": 6,
     "metadata": {},
     "output_type": "execute_result"
    }
   ],
   "source": []
  },
  {
   "cell_type": "code",
   "execution_count": null,
   "id": "efcd15b2-5932-4f7f-8c2a-f797f808c4a4",
   "metadata": {},
   "outputs": [],
   "source": []
  },
  {
   "cell_type": "code",
   "execution_count": null,
   "id": "c008430a-7341-41c3-a8f4-92e648f60d69",
   "metadata": {},
   "outputs": [],
   "source": []
  },
  {
   "cell_type": "code",
   "execution_count": null,
   "id": "197f7469-b133-43f3-abaf-853434ba31f8",
   "metadata": {},
   "outputs": [],
   "source": []
  },
  {
   "cell_type": "code",
   "execution_count": null,
   "id": "eac1f0b3-a639-4581-8ca4-b0a3ad99bd2a",
   "metadata": {},
   "outputs": [],
   "source": []
  },
  {
   "cell_type": "code",
   "execution_count": null,
   "id": "921fc66a-67e0-4b77-94a0-8233f5401e71",
   "metadata": {},
   "outputs": [],
   "source": []
  },
  {
   "cell_type": "code",
   "execution_count": null,
   "id": "b49ed01d-5211-4b09-a3f5-c369cd9bbd1e",
   "metadata": {},
   "outputs": [],
   "source": []
  },
  {
   "cell_type": "code",
   "execution_count": null,
   "id": "a782fe1f-1206-4271-a4a3-0b688b726bb1",
   "metadata": {},
   "outputs": [],
   "source": []
  },
  {
   "cell_type": "code",
   "execution_count": null,
   "id": "879251ca-100c-4c3f-9b62-474093d892bf",
   "metadata": {},
   "outputs": [],
   "source": []
  },
  {
   "cell_type": "code",
   "execution_count": null,
   "id": "d763e578-a786-4c5f-84d2-7ba55a30ccc3",
   "metadata": {},
   "outputs": [],
   "source": []
  },
  {
   "cell_type": "code",
   "execution_count": null,
   "id": "ceb6cb80-bb92-424c-9b0e-8abf1a5232ef",
   "metadata": {},
   "outputs": [],
   "source": []
  },
  {
   "cell_type": "code",
   "execution_count": null,
   "id": "44b34927-6579-409a-9a6b-f2e2c7b658cf",
   "metadata": {},
   "outputs": [],
   "source": []
  },
  {
   "cell_type": "code",
   "execution_count": null,
   "id": "a5ee15e6-76b1-4b81-9570-647aa9d50b6c",
   "metadata": {},
   "outputs": [],
   "source": []
  },
  {
   "cell_type": "code",
   "execution_count": null,
   "id": "acfd8a1a-9edd-4144-9f36-ecda36e90477",
   "metadata": {},
   "outputs": [],
   "source": []
  },
  {
   "cell_type": "code",
   "execution_count": null,
   "id": "b7ef98a5-bbab-45a2-b6f2-ce7efac734ad",
   "metadata": {},
   "outputs": [],
   "source": []
  },
  {
   "cell_type": "code",
   "execution_count": null,
   "id": "61ac8f85-723e-4c0c-bc55-31cc3bc538ca",
   "metadata": {},
   "outputs": [],
   "source": []
  },
  {
   "cell_type": "code",
   "execution_count": null,
   "id": "78c62dd2-b36d-42b3-8cd3-cbaba79d7d57",
   "metadata": {},
   "outputs": [],
   "source": []
  },
  {
   "cell_type": "code",
   "execution_count": null,
   "id": "e8722848-b6ce-4cc0-9bdf-e62c14273237",
   "metadata": {},
   "outputs": [],
   "source": []
  },
  {
   "cell_type": "code",
   "execution_count": null,
   "id": "75a0e180-4d88-4986-84e3-bd52cd6951fb",
   "metadata": {},
   "outputs": [],
   "source": []
  }
 ],
 "metadata": {
  "kernelspec": {
   "display_name": "Python 3 (ipykernel)",
   "language": "python",
   "name": "python3"
  },
  "language_info": {
   "codemirror_mode": {
    "name": "ipython",
    "version": 3
   },
   "file_extension": ".py",
   "mimetype": "text/x-python",
   "name": "python",
   "nbconvert_exporter": "python",
   "pygments_lexer": "ipython3",
   "version": "3.12.7"
  }
 },
 "nbformat": 4,
 "nbformat_minor": 5
}
