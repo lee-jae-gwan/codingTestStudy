{
 "cells": [
  {
   "cell_type": "markdown",
   "id": "34a48705-ffaf-4a05-8cf3-a9cfb294372c",
   "metadata": {},
   "source": [
    "리코쳇 로봇이라는 보드게임이 있습니다.\n",
    "\n",
    "이 보드게임은 격자모양 게임판 위에서 말을 움직이는 게임으로, 시작 위치에서 출발한 뒤 목표 위치에 정확하게 멈추기 위해 최소 몇 번의 이동이 필요한지 말하는 게임입니다.\n",
    "\n",
    "이 게임에서 말의 이동은 현재 위치에서 상, 하, 좌, 우 중 한 방향으로 게임판 위의 장애물이나 게임판 가장자리까지 부딪힐 때까지 미끄러져 움직이는 것을 한 번의 이동으로 정의합니다.\n",
    "\n",
    "다음은 보드게임판을 나타낸 예시입니다. (\".\"은 빈 공간을, \"R\"은 로봇의 처음 위치를, \"D\"는 장애물의 위치를, \"G\"는 목표지점을 나타냅니다.)"
   ]
  },
  {
   "cell_type": "markdown",
   "id": "4a21c718-1a3d-4111-8128-43f270e8b786",
   "metadata": {},
   "source": [
    "### 3줄 요약\n",
    "    - 한 번에 한 방향으로 끝까지 가야함\n",
    "    - 도착 지점의 바로 뒤에 갈 수 없는 공간이 필요함(D or 끝부분)\n",
    "    - Dfs or Bfs?\n"
   ]
  },
  {
   "cell_type": "code",
   "execution_count": 1,
   "id": "bd8b651c-50ed-4d5a-bdf0-338def7b9636",
   "metadata": {},
   "outputs": [],
   "source": [
    "board = [\"...D..R\", \".D.G...\", \"....D.D\", \"D....D.\", \"..D....\"]"
   ]
  },
  {
   "cell_type": "code",
   "execution_count": 2,
   "id": "5221297a-6a0e-4967-b78a-ec9ec1709210",
   "metadata": {},
   "outputs": [],
   "source": [
    "from collections import deque"
   ]
  },
  {
   "cell_type": "code",
   "execution_count": 149,
   "id": "b54c79e8-3b05-4e18-8667-7dbc463ec183",
   "metadata": {},
   "outputs": [],
   "source": [
    "def solution(grid):\n",
    "    rows = len(grid)\n",
    "    cols = len(grid[0])\n",
    "    queue = deque()\n",
    "    \n",
    "    directions = [(-1,0),(1,0),(0,-1),(0,1)]\n",
    "    \n",
    "    visited = [[9999 for _ in range(cols)]for _ in range(rows)]\n",
    "    \n",
    "    grid = []\n",
    "    for row in range(len(board)):\n",
    "        tmp_grid = list(board[row])\n",
    "        tmp_grid = [True if x == '.' else x for x in tmp_grid]\n",
    "        grid.append(tmp_grid)\n",
    "        if 'R' in tmp_grid:\n",
    "            rcol = tmp_grid.index('R')\n",
    "            queue.append((row, rcol,0))\n",
    "            visited[row][rcol] = 0 \n",
    "    \n",
    "    while queue:\n",
    "        x, y, cost = queue.popleft()\n",
    "    \n",
    "        if grid[x][y] == \"G\":\n",
    "            return cost\n",
    "        \n",
    "        for pos in range(4):\n",
    "            dx, dy = directions[pos]\n",
    "            nx, ny = x, y\n",
    "    \n",
    "            while 0<=nx+dx<rows and 0<=ny+dy<cols and grid[nx+dx][ny+dy]!=\"D\":\n",
    "                nx = nx + dx\n",
    "                ny = ny + dy\n",
    "    \n",
    "            if visited[nx][ny] > cost+1:\n",
    "                visited[nx][ny]=cost+1\n",
    "                queue.append((nx,ny,cost+1))\n",
    "\n",
    "    return -1\n",
    "            \n",
    "        "
   ]
  },
  {
   "cell_type": "code",
   "execution_count": null,
   "id": "22b715be-36ea-4370-9b33-14ac03689f1f",
   "metadata": {},
   "outputs": [],
   "source": []
  },
  {
   "cell_type": "code",
   "execution_count": null,
   "id": "8ef66369-67b2-4901-a5c2-dff76c633397",
   "metadata": {},
   "outputs": [],
   "source": []
  },
  {
   "cell_type": "code",
   "execution_count": null,
   "id": "bbc25512-9e50-4e2a-ae48-4a43d92f4d66",
   "metadata": {},
   "outputs": [],
   "source": []
  },
  {
   "cell_type": "code",
   "execution_count": null,
   "id": "90e1be93-1506-4c1c-a77a-027b29ad7e15",
   "metadata": {},
   "outputs": [],
   "source": []
  },
  {
   "cell_type": "code",
   "execution_count": null,
   "id": "6a4a3c3c-16a9-4ca4-baa2-3f1cf3cc4207",
   "metadata": {},
   "outputs": [],
   "source": []
  },
  {
   "cell_type": "code",
   "execution_count": null,
   "id": "59b2201a-baed-4b98-86a5-7c7909f8d338",
   "metadata": {},
   "outputs": [],
   "source": []
  },
  {
   "cell_type": "code",
   "execution_count": null,
   "id": "7eaf0eac-aa86-4e25-9d82-f37b0d78c478",
   "metadata": {},
   "outputs": [],
   "source": []
  }
 ],
 "metadata": {
  "kernelspec": {
   "display_name": "Python 3 (ipykernel)",
   "language": "python",
   "name": "python3"
  },
  "language_info": {
   "codemirror_mode": {
    "name": "ipython",
    "version": 3
   },
   "file_extension": ".py",
   "mimetype": "text/x-python",
   "name": "python",
   "nbconvert_exporter": "python",
   "pygments_lexer": "ipython3",
   "version": "3.12.7"
  }
 },
 "nbformat": 4,
 "nbformat_minor": 5
}
