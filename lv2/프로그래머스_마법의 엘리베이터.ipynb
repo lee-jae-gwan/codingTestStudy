{
 "cells": [
  {
   "cell_type": "markdown",
   "id": "9b4fe145-e948-43a7-83cd-f5d02e5f12e4",
   "metadata": {},
   "source": [
    "마법의 세계에 사는 민수는 아주 높은 탑에 살고 있습니다. 탑이 너무 높아서 걸어 다니기 힘든 민수는 마법의 엘리베이터를 만들었습니다. 마법의 엘리베이터의 버튼은 특별합니다. 마법의 엘리베이터에는 -1, +1, -10, +10, -100, +100 등과 같이 절댓값이 10c (c ≥ 0 인 정수) 형태인 정수들이 적힌 버튼이 있습니다. 마법의 엘리베이터의 버튼을 누르면 현재 층 수에 버튼에 적혀 있는 값을 더한 층으로 이동하게 됩니다. 단, 엘리베이터가 위치해 있는 층과 버튼의 값을 더한 결과가 0보다 작으면 엘리베이터는 움직이지 않습니다. 민수의 세계에서는 0층이 가장 아래층이며 엘리베이터는 현재 민수가 있는 층에 있습니다.\n",
    "\n",
    "마법의 엘리베이터를 움직이기 위해서 버튼 한 번당 마법의 돌 한 개를 사용하게 됩니다.예를 들어, 16층에 있는 민수가 0층으로 가려면 -1이 적힌 버튼을 6번, -10이 적힌 버튼을 1번 눌러 마법의 돌 7개를 소모하여 0층으로 갈 수 있습니다. 하지만, +1이 적힌 버튼을 4번, -10이 적힌 버튼 2번을 누르면 마법의 돌 6개를 소모하여 0층으로 갈 수 있습니다.\n",
    "\n",
    "마법의 돌을 아끼기 위해 민수는 항상 최소한의 버튼을 눌러서 이동하려고 합니다. 민수가 어떤 층에서 엘리베이터를 타고 0층으로 내려가는데 필요한 마법의 돌의 최소 개수를 알고 싶습니다. 민수와 마법의 엘리베이터가 있는 층을 나타내는 정수 storey 가 주어졌을 때, 0층으로 가기 위해 필요한 마법의 돌의 최소값을 return 하도록 solution 함수를 완성하세요."
   ]
  },
  {
   "cell_type": "markdown",
   "id": "48b92414-769c-44c8-8978-89a6807cf3c1",
   "metadata": {},
   "source": [
    "### 3줄 요약\n",
    "    - 10*c의 형태로만 이동가능하며 엘베가 있는 층 + 버튼 값이 0보다 작으면 안움직임\n",
    "    - 버튼 한 번 누를 때마다 돌 1개 소모하며 가장 돌을 적게 소모하는 방법\n",
    "    - 5보다 크면 올림, 5보다 작으면 내림, 5이면 앞자리 수의 영향을 받음"
   ]
  },
  {
   "cell_type": "code",
   "execution_count": 116,
   "id": "8ff6db1e-37cd-414f-aec1-57841c4efee1",
   "metadata": {},
   "outputs": [],
   "source": [
    "def solution(storey):\n",
    "    answer = 0\n",
    "    stor_list = list(map(int, str(storey)))\n",
    "    over = False\n",
    "\n",
    "    for i in range(len(stor_list)-1, -1, -1):\n",
    "        value = stor_list[i]\n",
    "\n",
    "        if over:\n",
    "            value += 1\n",
    "            over = False\n",
    "            if value == 10:\n",
    "                over = True\n",
    "                continue\n",
    "\n",
    "        if value > 5:\n",
    "            answer += 10 - value\n",
    "            over = True\n",
    "        elif value == 5 and i > 0 and stor_list[i-1] >= 5:\n",
    "            answer += 10 - value\n",
    "            over = True\n",
    "        else:\n",
    "            answer += value\n",
    "\n",
    "    if over:\n",
    "        answer += 1\n",
    "\n",
    "    return answer\n"
   ]
  },
  {
   "cell_type": "code",
   "execution_count": 118,
   "id": "2a71d529-7f9c-415d-aee4-38f6383bea95",
   "metadata": {},
   "outputs": [
    {
     "data": {
      "text/plain": [
       "16"
      ]
     },
     "execution_count": 118,
     "metadata": {},
     "output_type": "execute_result"
    }
   ],
   "source": [
    "solution(2554)"
   ]
  }
 ],
 "metadata": {
  "kernelspec": {
   "display_name": "Python 3 (ipykernel)",
   "language": "python",
   "name": "python3"
  },
  "language_info": {
   "codemirror_mode": {
    "name": "ipython",
    "version": 3
   },
   "file_extension": ".py",
   "mimetype": "text/x-python",
   "name": "python",
   "nbconvert_exporter": "python",
   "pygments_lexer": "ipython3",
   "version": "3.12.7"
  }
 },
 "nbformat": 4,
 "nbformat_minor": 5
}
