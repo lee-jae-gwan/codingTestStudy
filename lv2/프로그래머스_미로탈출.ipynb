{
 "cells": [
  {
   "cell_type": "markdown",
   "id": "1623a982-3c09-44b0-8658-4437361672b4",
   "metadata": {},
   "source": [
    "1 x 1 크기의 칸들로 이루어진 직사각형 격자 형태의 미로에서 탈출하려고 합니다. 각 칸은 통로 또는 벽으로 구성되어 있으며, 벽으로 된 칸은 지나갈 수 없고 통로로 된 칸으로만 이동할 수 있습니다. 통로들 중 한 칸에는 미로를 빠져나가는 문이 있는데, 이 문은 레버를 당겨서만 열 수 있습니다. 레버 또한 통로들 중 한 칸에 있습니다. 따라서, 출발 지점에서 먼저 레버가 있는 칸으로 이동하여 레버를 당긴 후 미로를 빠져나가는 문이 있는 칸으로 이동하면 됩니다. 이때 아직 레버를 당기지 않았더라도 출구가 있는 칸을 지나갈 수 있습니다. 미로에서 한 칸을 이동하는데 1초가 걸린다고 할 때, 최대한 빠르게 미로를 빠져나가는데 걸리는 시간을 구하려 합니다.\n",
    "\n",
    "미로를 나타낸 문자열 배열 maps가 매개변수로 주어질 때, 미로를 탈출하는데 필요한 최소 시간을 return 하는 solution 함수를 완성해주세요. 만약, 탈출할 수 없다면 -1을 return 해주세요."
   ]
  },
  {
   "cell_type": "markdown",
   "id": "56978baf-c646-49ea-b222-8f07e57b8086",
   "metadata": {},
   "source": [
    "### 3줄 요약\n",
    "    - 출력 결과는 최소 시간임\n",
    "    - S -> L -> E 순으로 찾아야함\n",
    "    - BFS"
   ]
  },
  {
   "cell_type": "code",
   "execution_count": 90,
   "id": "0c8c88d4-ac89-4b77-b594-9a165d4bf913",
   "metadata": {},
   "outputs": [],
   "source": [
    "from collections import deque\n",
    "\n",
    "def find_path(grid_maps, start, end):\n",
    "    rows = len(grid_maps)\n",
    "    cols = len(grid_maps[0])\n",
    "\n",
    "    queue = deque()\n",
    "    directions = [(-1,0),(1,0),(0,-1),(0,1)]\n",
    "    visited = [[False] * cols for _ in range(rows)]\n",
    "    \n",
    "    \n",
    "    for row in range(rows):\n",
    "        if start in grid_maps[row]:\n",
    "            i = row\n",
    "            j = grid_maps[row].index(start)\n",
    "            queue.append((i,j,0))\n",
    "            visited[i][j] = True\n",
    "            break\n",
    "    \n",
    "    while queue:\n",
    "        x, y, cost = queue.popleft()\n",
    "\n",
    "        if grid_maps[x][y] == end:\n",
    "            return cost\n",
    "            \n",
    "        for dx, dy in directions:\n",
    "            nx, ny = x + dx, y + dy\n",
    "            if 0 <= nx < rows and 0 <= ny < cols and grid_maps[nx][ny] != 'X' :\n",
    "                if visited[nx][ny]==False:\n",
    "                    queue.append((nx,ny, cost+1))\n",
    "                    visited[nx][ny] = True\n",
    "    return -1\n",
    "\n",
    "\n",
    "def solution(maps):\n",
    "    answer = 0\n",
    "    \n",
    "    grid_maps = []\n",
    "    for i in maps:\n",
    "        grid_maps.append(list(i))\n",
    "        \n",
    "    rows = len(grid_maps)\n",
    "    cols = len(grid_maps[0])\n",
    "    \n",
    "    ans1 = find_path(grid_maps, 'S','L')\n",
    "    ans2 = find_path(grid_maps, 'L','E')\n",
    "\n",
    "    if ans1 != -1 and ans2 != -1:\n",
    "        answer = ans1 + ans2\n",
    "    else:\n",
    "        answer = -1\n",
    "        \n",
    "    return answer"
   ]
  },
  {
   "cell_type": "code",
   "execution_count": 91,
   "id": "6f18b00b-d004-4046-b973-9884e56df285",
   "metadata": {},
   "outputs": [
    {
     "data": {
      "text/plain": [
       "-1"
      ]
     },
     "execution_count": 91,
     "metadata": {},
     "output_type": "execute_result"
    }
   ],
   "source": [
    "maps = [\"LOOXS\",\"OOOOX\",\"OOOOO\",\"OOOOO\",\"EOOOO\"]\n",
    "solution(maps)"
   ]
  },
  {
   "cell_type": "code",
   "execution_count": 92,
   "id": "edefdec5-de7f-4543-ba52-0f4257034e13",
   "metadata": {},
   "outputs": [
    {
     "data": {
      "text/plain": [
       "16"
      ]
     },
     "execution_count": 92,
     "metadata": {},
     "output_type": "execute_result"
    }
   ],
   "source": [
    "maps = [\"SOOOL\",\"XXXXO\",\"OOOOO\",\"OXXXX\",\"OOOOE\"]\n",
    "solution(maps)"
   ]
  },
  {
   "cell_type": "code",
   "execution_count": null,
   "id": "7f4f8aa1-69a5-4d45-860f-0805464d55f6",
   "metadata": {},
   "outputs": [],
   "source": []
  },
  {
   "cell_type": "code",
   "execution_count": null,
   "id": "0c69fc08-9a04-403d-92b8-daa8703eb8e4",
   "metadata": {},
   "outputs": [],
   "source": []
  },
  {
   "cell_type": "code",
   "execution_count": null,
   "id": "30e128b4-91a2-4d8c-a7c0-0dc1946f60e4",
   "metadata": {},
   "outputs": [],
   "source": []
  },
  {
   "cell_type": "code",
   "execution_count": null,
   "id": "ebeea309-184a-4928-b44e-26652e971c6b",
   "metadata": {},
   "outputs": [],
   "source": []
  },
  {
   "cell_type": "code",
   "execution_count": null,
   "id": "17ad3a19-9bf5-476a-8521-33438ac9db12",
   "metadata": {},
   "outputs": [],
   "source": []
  },
  {
   "cell_type": "code",
   "execution_count": null,
   "id": "430d6073-beb9-40d2-a03c-b241339dffd3",
   "metadata": {},
   "outputs": [],
   "source": []
  },
  {
   "cell_type": "code",
   "execution_count": null,
   "id": "90e08445-87c7-4307-8c3b-b8a28b7c6919",
   "metadata": {},
   "outputs": [],
   "source": []
  }
 ],
 "metadata": {
  "kernelspec": {
   "display_name": "Python 3 (ipykernel)",
   "language": "python",
   "name": "python3"
  },
  "language_info": {
   "codemirror_mode": {
    "name": "ipython",
    "version": 3
   },
   "file_extension": ".py",
   "mimetype": "text/x-python",
   "name": "python",
   "nbconvert_exporter": "python",
   "pygments_lexer": "ipython3",
   "version": "3.12.7"
  }
 },
 "nbformat": 4,
 "nbformat_minor": 5
}
