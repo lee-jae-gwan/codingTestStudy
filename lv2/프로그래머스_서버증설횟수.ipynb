{
 "cells": [
  {
   "cell_type": "markdown",
   "id": "beebdc57",
   "metadata": {},
   "source": [
    "당신은 온라인 게임을 운영하고 있습니다. 같은 시간대에 게임을 이용하는 사람이 m명 늘어날 때마다 서버 1대가 추가로 필요합니다. 어느 시간대의 이용자가 m명 미만이라면, 서버 증설이 필요하지 않습니다. 어느 시간대의 이용자가 n x m명 이상 (n + 1) x m명 미만이라면 최소 n대의 증설된 서버가 운영 중이어야 합니다. 한 번 증설한 서버는 k시간 동안 운영하고 그 이후에는 반납합니다. 예를 들어, k = 5 일 때 10시에 증설한 서버는 10 ~ 15시에만 운영됩니다.\n",
    "\n",
    "하루 동안 모든 게임 이용자가 게임을 하기 위해 서버를 최소 몇 번 증설해야 하는지 알고 싶습니다. 같은 시간대에 서버를 x대 증설했다면 해당 시간대의 증설 횟수는 x회입니다.\n",
    "\n",
    "다음은 m = 3, k = 5 일 때의 시간대별 증설된 서버의 수와 증설 횟수 예시입니다."
   ]
  },
  {
   "cell_type": "markdown",
   "id": "51c857fe",
   "metadata": {},
   "source": [
    "### 3줄 요약\n",
    "    - 같은 시간대에 m명 늘어날때 마다 서버 1대 증설\n",
    "    - 1번 증설하면 K 시간 동안 운영\n",
    "    - 최소 증설 횟수"
   ]
  },
  {
   "cell_type": "code",
   "execution_count": 57,
   "id": "86a12146",
   "metadata": {},
   "outputs": [],
   "source": [
    "table = [0]*(24)\n"
   ]
  },
  {
   "cell_type": "code",
   "execution_count": 58,
   "id": "44ac5216",
   "metadata": {},
   "outputs": [],
   "source": [
    "players = [0, 2, 3, 3, 1, 2, 0, 0, 0, 0, 4, 2, 0, 6, 0, 4, 2, 13, 3, 5, 10, 0, 1, 5]\n",
    "m = 3\n",
    "k = 5"
   ]
  },
  {
   "cell_type": "code",
   "execution_count": 65,
   "id": "5ec6dd94",
   "metadata": {},
   "outputs": [
    {
     "data": {
      "text/plain": [
       "[0, 0, 1, 1, 0, 0, 0, 0, 0, 0, 1, 0, 0, 2, 0, 1, 0, 4, 1, 1, 3, 0, 0, 1]"
      ]
     },
     "execution_count": 65,
     "metadata": {},
     "output_type": "execute_result"
    }
   ],
   "source": [
    "table"
   ]
  },
  {
   "cell_type": "code",
   "execution_count": 87,
   "id": "492669b7",
   "metadata": {},
   "outputs": [],
   "source": [
    "table = [0]*(24)\n",
    "run_table = [0]*(24+k)\n",
    "cur_ser = 0\n",
    "cnt = 0\n",
    "for i in range(len(players)):\n",
    "    add_ser = int(players[i]/3)\n",
    "    table[i] = add_ser\n",
    "    \n",
    "    for j in range(k):\n",
    "        tmp_add = add_ser - run_table[i+j]\n",
    "        if tmp_add >0 :\n",
    "            run_table[i+j] = tmp_add\n",
    "    print(run_table)"
   ]
  },
  {
   "cell_type": "code",
   "execution_count": 122,
   "id": "0eda1043",
   "metadata": {},
   "outputs": [
    {
     "data": {
      "text/plain": [
       "[0, 0, 1, 1, 0, 0, 0, 0, 0, 0, 1, 0, 0, 2, 0, 1, 0, 4, 1, 1, 3, 0, 0, 1]"
      ]
     },
     "execution_count": 122,
     "metadata": {},
     "output_type": "execute_result"
    }
   ],
   "source": [
    "table"
   ]
  },
  {
   "cell_type": "code",
   "execution_count": 128,
   "id": "7e21ce72",
   "metadata": {},
   "outputs": [
    {
     "name": "stdout",
     "output_type": "stream",
     "text": [
      "[0, 0, 1, 1, 1, 1, 1, 0, 0, 0, 1, 1, 1, 2, 2, 2, 2, 4, 4, 4, 4, 4, 0, 1, 1, 1, 1, 1, 0]\n"
     ]
    }
   ],
   "source": [
    "print(run_table)"
   ]
  },
  {
   "cell_type": "code",
   "execution_count": 145,
   "id": "c5889437",
   "metadata": {},
   "outputs": [],
   "source": [
    "table = [0]*(24)\n",
    "run_table = [0]*(24+k)\n",
    "cur_ser = 0 \n",
    "\n",
    "ans = 0\n",
    "\n",
    "for i in range(len(players)):\n",
    "    need_ser = int(players[i]/m)    \n",
    "    table[i] = need_ser\n",
    "\n",
    "    if need_ser > run_table[i]:    \n",
    "        tmp_add = need_ser - run_table[i]\n",
    "        ans += tmp_add\n",
    "        for j in range(k):    \n",
    "            run_table[i+j] = run_table[i+j] + tmp_add\n"
   ]
  },
  {
   "cell_type": "code",
   "execution_count": 146,
   "id": "8e6c632c",
   "metadata": {},
   "outputs": [
    {
     "data": {
      "text/plain": [
       "7"
      ]
     },
     "execution_count": 146,
     "metadata": {},
     "output_type": "execute_result"
    }
   ],
   "source": [
    "ans"
   ]
  },
  {
   "cell_type": "code",
   "execution_count": null,
   "id": "cb81e2d8",
   "metadata": {},
   "outputs": [],
   "source": [
    "answer = 0\n",
    "cur = 0\n",
    "for i in range(len(run_table)):\n",
    "    if run_table[i] > cur:\n",
    "        ans+= run_table[i] - cur"
   ]
  },
  {
   "cell_type": "code",
   "execution_count": null,
   "id": "d41e2dbb",
   "metadata": {},
   "outputs": [],
   "source": []
  },
  {
   "cell_type": "code",
   "execution_count": null,
   "id": "fe1ef225",
   "metadata": {},
   "outputs": [],
   "source": []
  },
  {
   "cell_type": "code",
   "execution_count": null,
   "id": "5d8dfe52",
   "metadata": {},
   "outputs": [],
   "source": []
  },
  {
   "cell_type": "code",
   "execution_count": null,
   "id": "7dfa1bd8",
   "metadata": {},
   "outputs": [],
   "source": []
  }
 ],
 "metadata": {
  "kernelspec": {
   "display_name": "Python 3 (ipykernel)",
   "language": "python",
   "name": "python3"
  },
  "language_info": {
   "codemirror_mode": {
    "name": "ipython",
    "version": 3
   },
   "file_extension": ".py",
   "mimetype": "text/x-python",
   "name": "python",
   "nbconvert_exporter": "python",
   "pygments_lexer": "ipython3",
   "version": "3.11.4"
  }
 },
 "nbformat": 4,
 "nbformat_minor": 5
}
