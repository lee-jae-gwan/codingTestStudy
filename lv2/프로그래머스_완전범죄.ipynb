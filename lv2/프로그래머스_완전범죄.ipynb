{
 "cells": [
  {
   "cell_type": "markdown",
   "id": "e7e9cdd0-929a-4a2c-ad3d-d0143b1bb259",
   "metadata": {},
   "source": [
    "A도둑과 B도둑이 팀을 이루어 모든 물건을 훔치려고 합니다. 단, 각 도둑이 물건을 훔칠 때 남기는 흔적이 누적되면 경찰에 붙잡히기 때문에, 두 도둑 중 누구도 경찰에 붙잡히지 않도록 흔적을 최소화해야 합니다.\n",
    "\n",
    "물건을 훔칠 때 조건은 아래와 같습니다.\n",
    "\n",
    "물건 i를 훔칠 때,\n",
    "A도둑이 훔치면 info[i][0]개의 A에 대한 흔적을 남깁니다.\n",
    "B도둑이 훔치면 info[i][1]개의 B에 대한 흔적을 남깁니다.\n",
    "각 물건에 대해 A도둑과 B도둑이 남기는 흔적의 개수는 1 이상 3 이하입니다.\n",
    "경찰에 붙잡히는 조건은 아래와 같습니다.\n",
    "\n",
    "A도둑은 자신이 남긴 흔적의 누적 개수가 n개 이상이면 경찰에 붙잡힙니다.\n",
    "B도둑은 자신이 남긴 흔적의 누적 개수가 m개 이상이면 경찰에 붙잡힙니다.\n",
    "각 물건을 훔칠 때 생기는 흔적에 대한 정보를 담은 2차원 정수 배열 info, A도둑이 경찰에 붙잡히는 최소 흔적 개수를 나타내는 정수 n, B도둑이 경찰에 붙잡히는 최소 흔적 개수를 나타내는 정수 m이 매개변수로 주어집니다. 두 도둑 모두 경찰에 붙잡히지 않도록 모든 물건을 훔쳤을 때, A도둑이 남긴 흔적의 누적 개수의 최솟값을 return 하도록 solution 함수를 완성해 주세요. 만약 어떠한 방법으로도 두 도둑 모두 경찰에 붙잡히지 않게 할 수 없다면 -1을 return해 주세요."
   ]
  },
  {
   "cell_type": "markdown",
   "id": "5d0a90f3-cfdd-46fd-a421-15d899cf53b9",
   "metadata": {},
   "source": [
    "### 3줄 요약\n",
    "    - 출력결과는 만약 모든 물건을 훔칠 수 있다면 a 도둑의 흔적 개수를, 모든 물건을 훔칠 수 없다면 -1\n",
    "    - 물건별로 a, b가 훔칠때 드는 코스트가 다름\n",
    "    - a도둑이 남기는 흔적의 개수를 최소화하는 것이 목표임"
   ]
  },
  {
   "cell_type": "code",
   "execution_count": 45,
   "id": "e19727cb-dc98-4bba-85ca-161d14dd5f39",
   "metadata": {},
   "outputs": [],
   "source": [
    "info = [[1, 2], [2, 3], [2, 1]]\n",
    "n = 4\n",
    "m = 4"
   ]
  },
  {
   "cell_type": "code",
   "execution_count": 54,
   "id": "e5b180d9-eb44-41ac-bbab-a7acc4d0db56",
   "metadata": {},
   "outputs": [
    {
     "name": "stdout",
     "output_type": "stream",
     "text": [
      "2\n"
     ]
    }
   ],
   "source": [
    "def dfs(a, b, idx, info, n, m, dp):\n",
    "    global rs\n",
    "    if idx == len(info):\n",
    "        if a < n and b < m:\n",
    "            rs = min(120, a)\n",
    "        return\n",
    "\n",
    "    if (a, b, idx) not in dp:\n",
    "        dp.add((a,b,idx))\n",
    "    else:\n",
    "        return\n",
    "\n",
    "    if a >=n or b>=m or a>=120:\n",
    "        return\n",
    "\n",
    "    dfs(a + info[idx][0], b , idx+1, info, n, m, dp)\n",
    "    dfs(a, b + info[idx][1], idx+1, info, n, m, dp)\n",
    "    \n",
    "\n",
    "global rs\n",
    "rs = 120\n",
    "\n",
    "dp = set()\n",
    "dfs(0,0,0,info, n, m, dp)\n",
    "\n",
    "if rs==120:\n",
    "    print(\"-1'\")\n",
    "else:\n",
    "    print(rs)"
   ]
  },
  {
   "cell_type": "code",
   "execution_count": 81,
   "id": "f0db32cf-3ec8-4599-a5fd-ab8feaa024f5",
   "metadata": {},
   "outputs": [],
   "source": [
    "global min_a\n",
    "min_a = 120\n",
    "\n",
    "def dfs_recursive(info, a, b, idx, n, m, dp):\n",
    "    global min_a\n",
    "    if idx == len(info):\n",
    "        if a<n and b<m:\n",
    "            min_a = min(120, a)\n",
    "        return\n",
    "        \n",
    "    if (a, b, idx) not in dp:\n",
    "        dp.add((a,b,idx))\n",
    "    else:\n",
    "        return\n",
    "\n",
    "    if a>=n and b>= m and a>=120:\n",
    "        return \n",
    "        \n",
    "    dfs_recursive(info, a+info[idx][0], b, idx+1, n, m, dp)\n",
    "    dfs_recursive(info, a, b+info[idx][1], idx+1, n, m, dp)"
   ]
  },
  {
   "cell_type": "code",
   "execution_count": null,
   "id": "09bfd81d-fc54-4ffa-bd29-1dc06eedf111",
   "metadata": {},
   "outputs": [],
   "source": [
    "def dfs_recursive(info, a, b, idx, n, m, dp):\n",
    "    global min_a\n",
    "    if idx == len(info):\n",
    "        if a < n and b < m:\n",
    "            min_a = min(min_a, a)\n",
    "        return\n",
    "\n",
    "    if (a, b, idx) in dp:\n",
    "        return\n",
    "    dp.add((a,b,idx))\n",
    "\n",
    "    if a >= n or b >= m or a >= 120:\n",
    "        return\n",
    "\n",
    "    dfs_recursive(info, a + info[idx][0], b, idx + 1, n, m, dp)\n",
    "    dfs_recursive(info, a, b + info[idx][1], idx + 1, n, m, dp)"
   ]
  },
  {
   "cell_type": "code",
   "execution_count": 82,
   "id": "1f9fa881-a2c0-4f52-bb51-e6c38a4a6243",
   "metadata": {},
   "outputs": [
    {
     "data": {
      "text/plain": [
       "2"
      ]
     },
     "execution_count": 82,
     "metadata": {},
     "output_type": "execute_result"
    }
   ],
   "source": [
    "dp = set()\n",
    "dfs_recursive(info, 0,0,0,n,m, dp)\n",
    "min_a"
   ]
  },
  {
   "cell_type": "code",
   "execution_count": 78,
   "id": "ae4ddd79-d00b-497a-ab54-02c211da1318",
   "metadata": {},
   "outputs": [
    {
     "data": {
      "text/plain": [
       "2"
      ]
     },
     "execution_count": 78,
     "metadata": {},
     "output_type": "execute_result"
    }
   ],
   "source": []
  },
  {
   "cell_type": "code",
   "execution_count": null,
   "id": "5a32fc03-4507-4d93-aa9d-ee54978a8aa5",
   "metadata": {},
   "outputs": [],
   "source": []
  },
  {
   "cell_type": "code",
   "execution_count": null,
   "id": "484e7d46-4e69-4ca7-aa04-ebaa12dad8f6",
   "metadata": {},
   "outputs": [],
   "source": []
  },
  {
   "cell_type": "code",
   "execution_count": null,
   "id": "3cfd9177-a625-47fe-a841-4b18808e10d9",
   "metadata": {},
   "outputs": [],
   "source": []
  },
  {
   "cell_type": "code",
   "execution_count": null,
   "id": "04ed3e46-ba18-47b2-9785-8cf895e77700",
   "metadata": {},
   "outputs": [],
   "source": []
  },
  {
   "cell_type": "code",
   "execution_count": null,
   "id": "dd9d588b-9e56-484a-a2d3-7ea8863a6d46",
   "metadata": {},
   "outputs": [],
   "source": []
  },
  {
   "cell_type": "code",
   "execution_count": null,
   "id": "3c67e779-3763-41b7-bfa1-6fd46527d4f4",
   "metadata": {},
   "outputs": [],
   "source": []
  },
  {
   "cell_type": "code",
   "execution_count": null,
   "id": "8dbfba79-b576-46c1-842e-1f53751380ba",
   "metadata": {},
   "outputs": [],
   "source": []
  },
  {
   "cell_type": "code",
   "execution_count": null,
   "id": "aac49d0a-0f0e-4fce-ad9d-f51bedd0c7c1",
   "metadata": {},
   "outputs": [],
   "source": []
  },
  {
   "cell_type": "code",
   "execution_count": null,
   "id": "2927ac8a-7d68-422f-89be-debc90b76509",
   "metadata": {},
   "outputs": [],
   "source": []
  },
  {
   "cell_type": "code",
   "execution_count": null,
   "id": "a4e7cf0f-f4c5-41be-82ef-515b5d8db324",
   "metadata": {},
   "outputs": [],
   "source": []
  },
  {
   "cell_type": "code",
   "execution_count": null,
   "id": "7cb4c3bb-c1b8-47c8-a2da-d8a1123c6829",
   "metadata": {},
   "outputs": [],
   "source": []
  },
  {
   "cell_type": "code",
   "execution_count": null,
   "id": "fe2b9d90-bccb-4b2c-bbc0-5f26fd2e7254",
   "metadata": {},
   "outputs": [],
   "source": []
  }
 ],
 "metadata": {
  "kernelspec": {
   "display_name": "Python 3 (ipykernel)",
   "language": "python",
   "name": "python3"
  },
  "language_info": {
   "codemirror_mode": {
    "name": "ipython",
    "version": 3
   },
   "file_extension": ".py",
   "mimetype": "text/x-python",
   "name": "python",
   "nbconvert_exporter": "python",
   "pygments_lexer": "ipython3",
   "version": "3.12.7"
  }
 },
 "nbformat": 4,
 "nbformat_minor": 5
}
